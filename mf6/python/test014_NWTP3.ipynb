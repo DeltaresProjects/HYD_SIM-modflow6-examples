{
 "cells": [
  {
   "cell_type": "markdown",
   "metadata": {},
   "source": [
    "# Reproduction of MODFLOW-NWT Problem 3\n",
    "\n",
    "\n",
    "\n",
    "## MODFLOW-NWT"
   ]
  },
  {
   "cell_type": "code",
   "execution_count": null,
   "metadata": {},
   "outputs": [],
   "source": [
    "%matplotlib inline\n",
    "import numpy as np\n",
    "import matplotlib.pyplot as plt\n",
    "import os\n",
    "import flopy\n",
    "import flopy.utils.binaryfile as bf"
   ]
  },
  {
   "cell_type": "code",
   "execution_count": null,
   "metadata": {},
   "outputs": [],
   "source": [
    "#paths to existing output\n",
    "mf6pth = [os.path.join('..', 'test014_NWTP3High'), \n",
    "          os.path.join('..', 'test014_NWTP3Low_dev')]\n",
    "mfnwtpth = [os.path.join('..', 'test014_NWTP3High_dev', 'mfusg'), \n",
    "             os.path.join('..', 'test014_NWTP3Low_dev', 'mfnwt')]"
   ]
  },
  {
   "cell_type": "code",
   "execution_count": null,
   "metadata": {},
   "outputs": [],
   "source": [
    "#setup model parameters\n",
    "xmax = 8000.\n",
    "ymax = 8000.\n",
    "delr = 100. \n",
    "delc = 100.\n",
    "\n",
    "nrow = int(ymax / delr)\n",
    "ncol = int(xmax / delr)\n",
    "\n",
    "#--x\n",
    "x = np.arange(0, xmax, delr) + delr/2.\n",
    "#--y\n",
    "y = np.arange(0, ymax, delr) + delc/2.\n",
    "#--mesh grid object\n",
    "X, Y = np.meshgrid(x, y[::-1])"
   ]
  },
  {
   "cell_type": "markdown",
   "metadata": {},
   "source": [
    "### Get base model"
   ]
  },
  {
   "cell_type": "code",
   "execution_count": null,
   "metadata": {},
   "outputs": [],
   "source": [
    "model = 'NWTP3.nam'\n",
    "ml = flopy.modflow.Modflow.load(model, version='mfnwt', model_ws=mfnwtpth[0], verbose=True)"
   ]
  },
  {
   "cell_type": "markdown",
   "metadata": {},
   "source": [
    "#### set aquifer bottom"
   ]
  },
  {
   "cell_type": "code",
   "execution_count": null,
   "metadata": {},
   "outputs": [],
   "source": [
    "aqbottom = ml.dis.botm.array[0, :, :]"
   ]
  },
  {
   "cell_type": "markdown",
   "metadata": {},
   "source": [
    "### High recharge rate"
   ]
  },
  {
   "cell_type": "code",
   "execution_count": null,
   "metadata": {},
   "outputs": [],
   "source": [
    "#--Create the headfile objects\n",
    "#--MODFLOW-USG\n",
    "headfile = os.path.join(mfnwtpth[0], 'NWTP3.hds')\n",
    "nwtobj = bf.HeadFile(headfile, precision='double')\n",
    "times = nwtobj.get_times()\n",
    "head = nwtobj.get_data(totim=times[-1]) \n",
    "nwthead = head[-1, :, :]\n",
    "nwtsat = nwthead - aqbottom[:, :]\n",
    "for irow in range(nrow):\n",
    "    for jcol in range(ncol):\n",
    "        if nwthead[irow, jcol] < aqbottom[irow, jcol]+0.02 or nwthead[irow, jcol] < -998.:\n",
    "            nwthead[irow, jcol] = np.nan\n",
    "            nwtsat[irow, jcol] = np.nan\n",
    "            \n",
    "#--MODFLOW 6\n",
    "headfile = os.path.join(mf6pth[0], 'nwtp3.hds')\n",
    "mf6obj = bf.HeadFile(headfile, precision='double')\n",
    "times = nwtobj.get_times()\n",
    "head = mf6obj.get_data(totim=times[-1]) \n",
    "mf6head = head[-1, :, :]\n",
    "mf6sat = mf6head - aqbottom[:, :]\n",
    "for irow in range(nrow):\n",
    "    for jcol in range(ncol):\n",
    "        if mf6head[irow, jcol] < aqbottom[irow, jcol]+0.02 or mf6head[irow, jcol] < -998.:\n",
    "            mf6head[irow, jcol] = np.nan\n",
    "            mf6sat[irow, jcol] = np.nan \n",
    "print((mf6head-nwthead).max())"
   ]
  },
  {
   "cell_type": "markdown",
   "metadata": {},
   "source": [
    "### Simulated head"
   ]
  },
  {
   "cell_type": "code",
   "execution_count": null,
   "metadata": {},
   "outputs": [],
   "source": [
    "fig = plt.figure(figsize=(15,5))\n",
    "ax = fig.add_subplot(1, 3, 1)\n",
    "h = ax.imshow(nwthead, cmap='jet', extent=[0, xmax, 0., ymax], vmin=20, vmax=80, origin='upper', interpolation='None')\n",
    "c = ax.contour(X, Y, nwthead, colors='k', levels=np.arange(0,100,5))\n",
    "ax.clabel(c, fmt='%1.0f')\n",
    "plt.colorbar(h, shrink=0.5)\n",
    "plt.title('MODFLOW-USG', size=8)\n",
    "\n",
    "ax = fig.add_subplot(1, 3, 2)\n",
    "h = ax.imshow(mf6head, cmap='jet', extent=[0, xmax, 0., ymax], vmin=20, vmax=80, origin='upper', interpolation='None')\n",
    "c = ax.contour(X, Y, mf6head, colors='k', levels=np.arange(0,100,5))\n",
    "ax.clabel(c, fmt='%1.0f')\n",
    "plt.colorbar(h, shrink=0.5)\n",
    "plt.title('MODFLOW 6', size=8)\n",
    "\n",
    "diff = 100. * (mf6head - nwthead) / nwthead\n",
    "ax = fig.add_subplot(1, 3, 3)\n",
    "h = ax.imshow(diff, cmap='jet', extent=[0, xmax, 0., ymax], origin='upper', interpolation='None')\n",
    "c = ax.contour(X, Y, diff, colors='k')\n",
    "ax.clabel(c, fmt='%3.0e')\n",
    "plt.colorbar(h, shrink=0.5)\n",
    "plt.title('Percent Difference', size=8);"
   ]
  },
  {
   "cell_type": "markdown",
   "metadata": {},
   "source": [
    "### Saturated thickness"
   ]
  },
  {
   "cell_type": "code",
   "execution_count": null,
   "metadata": {},
   "outputs": [],
   "source": [
    "fig = plt.figure(figsize=(15,5))\n",
    "ax = fig.add_subplot(1, 3, 1)\n",
    "h = ax.imshow(nwtsat, cmap='jet', extent=[0, xmax, 0., ymax], vmin=0, vmax=30, origin='upper', interpolation='None')\n",
    "c = ax.contour(X, Y, nwtsat, colors='k', levels=np.arange(0,100,5))\n",
    "ax.clabel(c, fmt='%1.0f')\n",
    "plt.colorbar(h, shrink=0.5)\n",
    "plt.title('MODFLOW-USG', size=8)\n",
    "\n",
    "ax = fig.add_subplot(1, 3, 2)\n",
    "h = ax.imshow(mf6sat, cmap='jet', extent=[0, xmax, 0., ymax], vmin=0, vmax=30, origin='upper', interpolation='None')\n",
    "c = ax.contour(X, Y, mf6sat, colors='k', levels=np.arange(0,100,5))\n",
    "ax.clabel(c, fmt='%1.0f')\n",
    "plt.colorbar(h, shrink=0.5)\n",
    "plt.title('MODFLOW 6', size=8)\n",
    "\n",
    "diff = 100. * (mf6sat - nwtsat) / nwtsat\n",
    "ax = fig.add_subplot(1, 3, 3)\n",
    "h = ax.imshow(diff, cmap='jet', extent=[0, xmax, 0., ymax], origin='upper', interpolation='None')\n",
    "c = ax.contour(X, Y, diff, colors='k')\n",
    "ax.clabel(c, fmt='%3.0e')\n",
    "plt.colorbar(h, shrink=0.5)\n",
    "plt.title('Percent Difference', size=8);"
   ]
  },
  {
   "cell_type": "markdown",
   "metadata": {},
   "source": [
    "### Low recharge rate"
   ]
  },
  {
   "cell_type": "code",
   "execution_count": null,
   "metadata": {},
   "outputs": [],
   "source": [
    "#--Create the headfile objects\n",
    "#--MODFLOW-NWT\n",
    "headfile = os.path.join(mfnwtpth[1], 'NWTP3.hds')\n",
    "nwtobj = bf.HeadFile(headfile, precision='double')\n",
    "times = nwtobj.get_times()\n",
    "head = nwtobj.get_data(totim=times[-1]) \n",
    "nwthead = head[-1, :, :]\n",
    "nwtsat = nwthead - aqbottom[:, :]\n",
    "\n",
    "            \n",
    "#--MODFLOW 6\n",
    "headfile = os.path.join(mf6pth[1], 'nwtp3.hds')\n",
    "mf6obj = bf.HeadFile(headfile, precision='double')\n",
    "times = nwtobj.get_times()\n",
    "head = mf6obj.get_data(totim=times[-1]) \n",
    "mf6head = head[-1, :, :]\n",
    "mf6sat = mf6head - aqbottom[:, :]"
   ]
  },
  {
   "cell_type": "code",
   "execution_count": null,
   "metadata": {},
   "outputs": [],
   "source": [
    "d = mf6head - nwthead\n",
    "print(d.min(), d.max(), d.mean(), d.std())"
   ]
  },
  {
   "cell_type": "code",
   "execution_count": null,
   "metadata": {},
   "outputs": [],
   "source": [
    "# fill \"dry\" cells with np.nan\n",
    "for irow in range(nrow):\n",
    "    for jcol in range(ncol):\n",
    "        if nwthead[irow, jcol] < aqbottom[irow, jcol]+0.02 or nwthead[irow, jcol] < -998.:\n",
    "            nwthead[irow, jcol] = np.nan\n",
    "            nwtsat[irow, jcol] = np.nan\n",
    "            \n",
    "for irow in range(nrow):\n",
    "    for jcol in range(ncol):\n",
    "        if mf6head[irow, jcol] < aqbottom[irow, jcol]+0.02 or mf6head[irow, jcol] < -998.:\n",
    "            mf6head[irow, jcol] = np.nan\n",
    "            mf6sat[irow, jcol] = np.nan            "
   ]
  },
  {
   "cell_type": "markdown",
   "metadata": {},
   "source": [
    "### Simulated head"
   ]
  },
  {
   "cell_type": "code",
   "execution_count": null,
   "metadata": {},
   "outputs": [],
   "source": [
    "fig = plt.figure(figsize=(15,5))\n",
    "ax = fig.add_subplot(1, 3, 1)\n",
    "h = ax.imshow(nwthead, cmap='jet', extent=[0, xmax, 0., ymax], vmin=20, vmax=80, origin='upper', interpolation='None')\n",
    "c = ax.contour(X, Y, nwthead, colors='k', levels=np.arange(0,100,5))\n",
    "ax.clabel(c, fmt='%1.0f')\n",
    "plt.colorbar(h, shrink=0.5)\n",
    "plt.title('MODFLOW-NWT', size=8)\n",
    "\n",
    "ax = fig.add_subplot(1, 3, 2)\n",
    "h = ax.imshow(mf6head, cmap='jet', extent=[0, xmax, 0., ymax], vmin=20, vmax=80, origin='upper', interpolation='None')\n",
    "c = ax.contour(X, Y, mf6head, colors='k', levels=np.arange(0,100,5))\n",
    "ax.clabel(c, fmt='%1.0f')\n",
    "plt.colorbar(h, shrink=0.5)\n",
    "plt.title('MODFLOW 6', size=8)\n",
    "\n",
    "diff = 100. * (mf6head - nwthead) / nwthead\n",
    "ax = fig.add_subplot(1, 3, 3)\n",
    "h = ax.imshow(diff, cmap='jet', extent=[0, xmax, 0., ymax], origin='upper', interpolation='None')\n",
    "c = ax.contour(X, Y, diff, colors='k')\n",
    "ax.clabel(c, fmt='%3.0e')\n",
    "plt.colorbar(h, shrink=0.5)\n",
    "plt.title('Percent Difference', size=8);"
   ]
  },
  {
   "cell_type": "markdown",
   "metadata": {},
   "source": [
    "### Saturated thickness"
   ]
  },
  {
   "cell_type": "code",
   "execution_count": null,
   "metadata": {},
   "outputs": [],
   "source": [
    "fig = plt.figure(figsize=(15,5))\n",
    "ax = fig.add_subplot(1, 3, 1)\n",
    "h = ax.imshow(nwtsat, cmap='jet', extent=[0, xmax, 0., ymax], vmin=0, vmax=30, origin='upper', interpolation='None')\n",
    "c = ax.contour(X, Y, nwtsat, colors='k', levels=np.arange(0,100,5))\n",
    "ax.clabel(c, fmt='%1.0f')\n",
    "plt.colorbar(h, shrink=0.5)\n",
    "plt.title('MODFLOW-NWT', size=8)\n",
    "\n",
    "ax = fig.add_subplot(1, 3, 2)\n",
    "h = ax.imshow(mf6sat, cmap='jet', extent=[0, xmax, 0., ymax], vmin=0, vmax=30, origin='upper', interpolation='None')\n",
    "c = ax.contour(X, Y, mf6sat, colors='k', levels=np.arange(0,100,5))\n",
    "ax.clabel(c, fmt='%1.0f')\n",
    "plt.colorbar(h, shrink=0.5)\n",
    "plt.title('MODFLOW 6', size=8)\n",
    "\n",
    "diff = 100. * (mf6sat - nwtsat) / nwtsat\n",
    "ax = fig.add_subplot(1, 3, 3)\n",
    "h = ax.imshow(diff, cmap='jet', extent=[0, xmax, 0., ymax], origin='upper', interpolation='None')\n",
    "c = ax.contour(X, Y, diff, colors='k')\n",
    "ax.clabel(c, fmt='%3.0e')\n",
    "plt.colorbar(h, shrink=0.5)\n",
    "plt.title('Percent Difference', size=8);"
   ]
  },
  {
   "cell_type": "code",
   "execution_count": null,
   "metadata": {},
   "outputs": [],
   "source": []
  }
 ],
 "metadata": {
  "anaconda-cloud": {},
  "kernelspec": {
   "display_name": "Python 3",
   "language": "python",
   "name": "python3"
  },
  "language_info": {
   "codemirror_mode": {
    "name": "ipython",
    "version": 3
   },
   "file_extension": ".py",
   "mimetype": "text/x-python",
   "name": "python",
   "nbconvert_exporter": "python",
   "pygments_lexer": "ipython3",
   "version": "3.6.5"
  }
 },
 "nbformat": 4,
 "nbformat_minor": 1
}

{
 "cells": [
  {
   "cell_type": "code",
   "execution_count": null,
   "metadata": {},
   "outputs": [],
   "source": [
    "%matplotlib inline\n",
    "import sys\n",
    "import os\n",
    "import numpy as np\n",
    "import matplotlib.pyplot as plt\n",
    "import flopy\n",
    "sys.version"
   ]
  },
  {
   "cell_type": "code",
   "execution_count": null,
   "metadata": {},
   "outputs": [],
   "source": [
    "model_ws = os.path.join('..', 'test041_flowdivert_nwt_dev', 'mfnwt')\n",
    "\n",
    "#if not os.path.isdir(model_ws):\n",
    "#    os.mkdir(model_ws)\n",
    "\n",
    "# load existing model\n",
    "m = flopy.modflow.Modflow.load('flowdivert.nam', version='mfnwt', verbose=True, model_ws=model_ws)"
   ]
  },
  {
   "cell_type": "markdown",
   "metadata": {},
   "source": [
    "## MODFLOW 6"
   ]
  },
  {
   "cell_type": "code",
   "execution_count": null,
   "metadata": {},
   "outputs": [],
   "source": [
    "mf6_ws = os.path.join('..', 'test041_flowdivert_nwt_dev')\n",
    "hdobj = flopy.utils.binaryfile.HeadFile(os.path.join(mf6_ws, 'flowdivert.hds'))\n",
    "head6 = hdobj.get_data()\n",
    "bdobj = flopy.utils.binaryfile.CellBudgetFile(os.path.join(mf6_ws, 'flowdivert.cbc'), precision='double')\n",
    "bdobj.list_records()\n",
    "#frf6 = bdobj.get_data(text='FLOW RIGHT FACE')[0]\n",
    "#fff6 = bdobj.get_data(text='FLOW FRONT FACE')[0]"
   ]
  },
  {
   "cell_type": "code",
   "execution_count": null,
   "metadata": {},
   "outputs": [],
   "source": [
    "# Plot head and flow vectors\n",
    "fig = plt.figure(figsize=(15,15))\n",
    "mm = flopy.plot.ModelMap(model=m)\n",
    "mm.plot_grid()\n",
    "mm.plot_ibound()\n",
    "qm = mm.plot_array(head6[0])\n",
    "cb = plt.colorbar(qm, shrink=0.5)"
   ]
  },
  {
   "cell_type": "code",
   "execution_count": null,
   "metadata": {
    "scrolled": true
   },
   "outputs": [],
   "source": [
    "# Plot saturated thickness and flow vectors\n",
    "fig = plt.figure(figsize=(15,15))\n",
    "mm = flopy.plot.ModelMap(model=m)\n",
    "mm.plot_grid()\n",
    "mm.plot_ibound()\n",
    "sat_thk = head6[0] - m.dis.botm.array[0]\n",
    "sat_thk = np.where(sat_thk < 0.01, 0, sat_thk)\n",
    "qm = mm.plot_array(sat_thk, masked_values=[0])\n",
    "cb = plt.colorbar(qm, shrink=0.5)"
   ]
  },
  {
   "cell_type": "markdown",
   "metadata": {},
   "source": [
    "# MODFLOW-NWT"
   ]
  },
  {
   "cell_type": "code",
   "execution_count": null,
   "metadata": {},
   "outputs": [],
   "source": [
    "mfnwt_ws = os.path.join('..', 'test041_flowdivert_nwt_dev', 'mfnwt')\n",
    "hdobj = flopy.utils.binaryfile.HeadFile(os.path.join(mfnwt_ws, 'flowdivert.hds'))\n",
    "headnwt = hdobj.get_data()\n",
    "bdobj = flopy.utils.binaryfile.CellBudgetFile(os.path.join(mfnwt_ws, 'flowdivert.cbc'), precision='double')\n",
    "bdobj.list_records()\n",
    "frfusg = bdobj.get_data(text='FLOW RIGHT FACE')[0]\n",
    "fffusg = bdobj.get_data(text='FLOW FRONT FACE')[0]"
   ]
  },
  {
   "cell_type": "code",
   "execution_count": null,
   "metadata": {},
   "outputs": [],
   "source": [
    "# Plot head and flow vectors\n",
    "fig = plt.figure(figsize=(15,15))\n",
    "mm = flopy.plot.ModelMap(model=m)\n",
    "mm.plot_grid()\n",
    "mm.plot_ibound()\n",
    "qm = mm.plot_array(headnwt[0])\n",
    "mm.plot_discharge(frfusg, fffusg, head=head6)\n",
    "cb = plt.colorbar(qm, shrink=0.5)"
   ]
  },
  {
   "cell_type": "code",
   "execution_count": null,
   "metadata": {},
   "outputs": [],
   "source": [
    "# Plot saturated thickness and flow vectors\n",
    "fig = plt.figure(figsize=(15,15))\n",
    "mm = flopy.plot.ModelMap(model=m)\n",
    "mm.plot_grid()\n",
    "mm.plot_ibound()\n",
    "sat_thk = headnwt[0] - m.dis.botm.array[0]\n",
    "#print(sat_thk.min(), sat_thk.max())\n",
    "sat_thk = np.where(sat_thk < 0.01, 0, sat_thk)\n",
    "qm = mm.plot_array(sat_thk, masked_values=[0])\n",
    "mm.plot_discharge(frfusg, fffusg, head=headnwt)\n",
    "cb = plt.colorbar(qm, shrink=0.5)"
   ]
  },
  {
   "cell_type": "markdown",
   "metadata": {},
   "source": [
    "# Difference (MODFLOW 6 - MODFLOW-NWT)"
   ]
  },
  {
   "cell_type": "code",
   "execution_count": null,
   "metadata": {},
   "outputs": [],
   "source": [
    "fig = plt.figure(figsize=(15,15))\n",
    "mm = flopy.plot.ModelMap(model=m)\n",
    "mm.plot_grid()\n",
    "mm.plot_ibound()\n",
    "diff = head6 - headnwt\n",
    "print(diff.min(), diff.max())\n",
    "qm = mm.plot_array(diff, masked_values=[0])\n",
    "#mm.plot_discharge(frf6, fff6, head=head6)\n",
    "cb = plt.colorbar(qm, shrink=0.5)"
   ]
  },
  {
   "cell_type": "code",
   "execution_count": null,
   "metadata": {},
   "outputs": [],
   "source": [
    "err = np.where(sat_thk == 0, 0., diff)\n",
    "print(err.min(), err.max())"
   ]
  },
  {
   "cell_type": "code",
   "execution_count": null,
   "metadata": {},
   "outputs": [],
   "source": [
    "fig = plt.figure(figsize=(15,15))\n",
    "mm = flopy.plot.ModelMap(model=m)\n",
    "mm.plot_grid()\n",
    "mm.plot_ibound()\n",
    "diff = head6 - headnwt\n",
    "print(diff.min(), diff.max())\n",
    "qm = mm.plot_array(err)\n",
    "cb = plt.colorbar(qm, shrink=0.5)"
   ]
  },
  {
   "cell_type": "code",
   "execution_count": null,
   "metadata": {},
   "outputs": [],
   "source": []
  }
 ],
 "metadata": {
  "kernelspec": {
   "display_name": "Python 3",
   "language": "python",
   "name": "python3"
  },
  "language_info": {
   "codemirror_mode": {
    "name": "ipython",
    "version": 3
   },
   "file_extension": ".py",
   "mimetype": "text/x-python",
   "name": "python",
   "nbconvert_exporter": "python",
   "pygments_lexer": "ipython3",
   "version": "3.6.5"
  }
 },
 "nbformat": 4,
 "nbformat_minor": 1
}

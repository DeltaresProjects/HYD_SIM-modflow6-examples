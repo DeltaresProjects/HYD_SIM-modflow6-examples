{
 "cells": [
  {
   "cell_type": "markdown",
   "metadata": {},
   "source": [
    "# FloPy3\n",
    "\n",
    "## Simple water-table solution with recharge\n",
    "\n",
    "This problem is an unconfined system with a uniform recharge rate, a horizontal bottom, and flow between constant-head boundaries in column 1 and 100. MODFLOW models cannot match the analytical solution exactly because they do not allow recharge to constant-head cells. Constant-head cells in column 1 and 100 were made very thin (0.1 m) in the direction of flow to minimize the effect of recharge applied to them. The analytical solution for this problem can be written as:\n",
    "\n",
    "$h = \\sqrt{b_{1}^{2} - \\frac{x}{L} (b_{1}^{2} - b_{2}^{2}) + (\\frac{R x}{K}(L-x))} + z_{bottom}$\n",
    "\n",
    "where $R$ is the recharge rate, $K$ is the the hydraulic conductivity in the horizontal direction, $b_1$ is the specified saturated thickness at the left boundary, $b_2$ is the specified saturated thickness at the right boundary, $x$ is the distance from the left boundary $L$ is the length of the model domain, and $z_{bottom}$ is the elebation of the bottom of the aquifer.\n",
    "\n",
    "The model consistes of a grid of 100 columns, 1 row, and 1 layer; a bottom altitude of 0 m; constant heads of 20 and 11m in column 1 and 100, respectively; a recharge rate of 0.001 m/d; and a horizontal hydraulic conductivity of 50 m/d.  The discretization is 0.1 m in the row direction for the constant-head cells (column 1 and 100) and 50 m for all other cells."
   ]
  },
  {
   "cell_type": "code",
   "execution_count": null,
   "metadata": {},
   "outputs": [],
   "source": [
    "%matplotlib inline\n",
    "import numpy as np\n",
    "import matplotlib.pyplot as plt\n",
    "import os\n",
    "import flopy.utils.binaryfile as bf"
   ]
  },
  {
   "cell_type": "code",
   "execution_count": null,
   "metadata": {},
   "outputs": [],
   "source": [
    "#paths to existing output\n",
    "mf6pth = os.path.join('..', 'test012_WaterTable')"
   ]
  },
  {
   "cell_type": "markdown",
   "metadata": {},
   "source": [
    "### Function to calculate the analytical solution at specified points in a aquifer"
   ]
  },
  {
   "cell_type": "code",
   "execution_count": null,
   "metadata": {},
   "outputs": [],
   "source": [
    "def analyticalWaterTableSolution(h1, h2, z, R, K, L, x):\n",
    "    h = np.zeros((x.shape[0]), np.float)\n",
    "    #dx = x[1] - x[0]\n",
    "    #x -= dx\n",
    "    b1 = h1 - z\n",
    "    b2 = h2 - z\n",
    "    h = np.sqrt(b1**2 - (x/L)*(b1**2 - b2**2) + (R * x / K) * (L - x)) + z\n",
    "    return h"
   ]
  },
  {
   "cell_type": "markdown",
   "metadata": {},
   "source": [
    "## Model parameters for all models. Also calculate the analytical solution."
   ]
  },
  {
   "cell_type": "code",
   "execution_count": null,
   "metadata": {},
   "outputs": [],
   "source": [
    "#--model dimensions\n",
    "nlay, nrow, ncol = 1, 1, 100\n",
    "\n",
    "#--cell spacing\n",
    "delr = 50.\n",
    "delc = 1.\n",
    "\n",
    "#--domain length\n",
    "L = 5000.\n",
    "\n",
    "#--boundary heads\n",
    "h1 = 20.\n",
    "h2 = 11.\n",
    "\n",
    "#--ibound\n",
    "ibound = np.ones((nlay, nrow, ncol), dtype=np.int)\n",
    "\n",
    "#--starting heads\n",
    "strt = np.zeros((nlay, nrow, ncol), dtype=np.float)\n",
    "strt[0, 0, 0] = h1\n",
    "strt[0, 0, -1] = h2\n",
    "\n",
    "#--top of the aquifer\n",
    "top = 25.\n",
    "\n",
    "#--bottom of the aquifer\n",
    "botm = 0.\n",
    "\n",
    "#--hydraulic conductivity\n",
    "hk = 50.\n",
    "\n",
    "#--location of cell centroids\n",
    "x = np.arange(0.0, L, delr) + (delr / 2.)\n",
    "\n",
    "#--location of cell edges\n",
    "xa = np.arange(0, L+delr, delr)\n",
    "\n",
    "#--recharge rate\n",
    "rchrate = 0.001\n",
    "\n",
    "#--calculate the head at the cell centroids using the analytical solution function\n",
    "hac = analyticalWaterTableSolution(h1, h2, botm, rchrate, hk, L, x)\n",
    "\n",
    "#--calculate the head at the cell edges using the analytical solution functionn\n",
    "ha = analyticalWaterTableSolution(h1, h2, botm, rchrate, hk, L, xa)"
   ]
  },
  {
   "cell_type": "markdown",
   "metadata": {},
   "source": [
    "### Read the simulated MODFLOW 6 model results"
   ]
  },
  {
   "cell_type": "code",
   "execution_count": null,
   "metadata": {},
   "outputs": [],
   "source": [
    "#--MODFLOW 6\n",
    "headfile = os.path.join(mf6pth, 'watertable.hds')\n",
    "mf6obj = bf.HeadFile(headfile)\n",
    "times = mf6obj.get_times()\n",
    "print(times)\n",
    "head = mf6obj.get_data(totim=times[-1]) \n",
    "mf6head = head[0, 0, :]"
   ]
  },
  {
   "cell_type": "markdown",
   "metadata": {},
   "source": [
    "### Read the simulated MODFLOW-NWT model results"
   ]
  },
  {
   "cell_type": "code",
   "execution_count": null,
   "metadata": {},
   "outputs": [],
   "source": [
    "#--MODFLOW-NWT\n",
    "headfile = os.path.join(mf6pth, 'mfnwt', 'watertable.hds')\n",
    "mfobj = bf.HeadFile(headfile)\n",
    "times = mfobj.get_times()\n",
    "print(times)\n",
    "head = mfobj.get_data(totim=times[-1]) \n",
    "mfhead = head[0, 0, :]"
   ]
  },
  {
   "cell_type": "code",
   "execution_count": null,
   "metadata": {},
   "outputs": [],
   "source": [
    "d = mf6head - mfhead\n",
    "print(d.min(), d.max(), d.mean(), d.std())"
   ]
  },
  {
   "cell_type": "markdown",
   "metadata": {},
   "source": [
    "### Plot the MODFLOW 6 results and compare to the analytical solution"
   ]
  },
  {
   "cell_type": "code",
   "execution_count": null,
   "metadata": {},
   "outputs": [],
   "source": [
    "fig = plt.figure(figsize=(16,6))\n",
    "fig.subplots_adjust(left=None, bottom=None, right=None, top=None,\n",
    "                    wspace=0.25, hspace=0.25)\n",
    "\n",
    "ax = fig.add_subplot(1, 3, 1)\n",
    "ax.plot(xa, ha, linewidth=8, color='0.5', label='analytical solution')\n",
    "ax.plot(x, mf6head, color='red', label='MODFLOW 6')\n",
    "leg = ax.legend(loc='lower left')\n",
    "leg.draw_frame(False)\n",
    "ax.set_xlabel('Horizontal distance, in m')\n",
    "ax.set_ylabel('Head, in m')\n",
    "\n",
    "ax = fig.add_subplot(1, 3, 2)\n",
    "ax.plot(x, mf6head - hac, linewidth=1, color='blue')\n",
    "ax.set_xlabel('Horizontal distance, in m')\n",
    "ax.set_ylabel('Error, in m')\n",
    "\n",
    "ax = fig.add_subplot(1, 3, 3)\n",
    "ax.plot(x, 100.*(mf6head - hac)/hac, linewidth=1, color='blue')\n",
    "ax.set_xlabel('Horizontal distance, in m')\n",
    "ax.set_ylabel('Percent Error')"
   ]
  },
  {
   "cell_type": "markdown",
   "metadata": {},
   "source": [
    "### Plot the MODFLOW 6 results and compare to MODFLOW-NWT"
   ]
  },
  {
   "cell_type": "code",
   "execution_count": null,
   "metadata": {},
   "outputs": [],
   "source": [
    "fig = plt.figure(figsize=(16,6))\n",
    "fig.subplots_adjust(left=None, bottom=None, right=None, top=None,\n",
    "                    wspace=0.25, hspace=0.25)\n",
    "\n",
    "ax = fig.add_subplot(1, 3, 1)\n",
    "ax.plot(x, mfhead, linewidth=8, color='0.5', label='MODFLOW-NWT')\n",
    "ax.plot(x, mf6head, color='red', label='MODFLOW 6')\n",
    "leg = ax.legend(loc='lower left')\n",
    "leg.draw_frame(False)\n",
    "ax.set_xlabel('Horizontal distance, in m')\n",
    "ax.set_ylabel('Head, in m')\n",
    "\n",
    "ax = fig.add_subplot(1, 3, 2)\n",
    "ax.plot(x, mf6head - mfhead, linewidth=1, color='blue')\n",
    "ax.set_xlabel('Horizontal distance, in m')\n",
    "ax.set_ylabel('Error, in m')\n",
    "\n",
    "ax = fig.add_subplot(1, 3, 3)\n",
    "ax.plot(x, 100.*(mf6head - mfhead)/mfhead, linewidth=1, color='blue')\n",
    "ax.set_xlabel('Horizontal distance, in m')\n",
    "ax.set_ylabel('Percent Error')"
   ]
  },
  {
   "cell_type": "code",
   "execution_count": null,
   "metadata": {},
   "outputs": [],
   "source": []
  }
 ],
 "metadata": {
  "kernelspec": {
   "display_name": "Python 3",
   "language": "python",
   "name": "python3"
  },
  "language_info": {
   "codemirror_mode": {
    "name": "ipython",
    "version": 3
   },
   "file_extension": ".py",
   "mimetype": "text/x-python",
   "name": "python",
   "nbconvert_exporter": "python",
   "pygments_lexer": "ipython3",
   "version": "3.6.5"
  }
 },
 "nbformat": 4,
 "nbformat_minor": 1
}
